{
  "nbformat": 4,
  "nbformat_minor": 0,
  "metadata": {
    "colab": {
      "provenance": [],
      "authorship_tag": "ABX9TyMXSGUA2BFFk/t9fD7uiS2u",
      "include_colab_link": true
    },
    "kernelspec": {
      "name": "python3",
      "display_name": "Python 3"
    },
    "language_info": {
      "name": "python"
    }
  },
  "cells": [
    {
      "cell_type": "markdown",
      "metadata": {
        "id": "view-in-github",
        "colab_type": "text"
      },
      "source": [
        "<a href=\"https://colab.research.google.com/github/sethkipsangmutuba/PLP_HTML/blob/Deeplearning/1)%20HTML1.ipynb\" target=\"_parent\"><img src=\"https://colab.research.google.com/assets/colab-badge.svg\" alt=\"Open In Colab\"/></a>"
      ]
    },
    {
      "cell_type": "markdown",
      "source": [
        "# Week 1 Assignment\n",
        "\n",
        "\n",
        "\n",
        "\n",
        "Introduction to HTML\n",
        "\n",
        "Description:\n",
        "\n",
        "In this week, you will set up a basic HTML template for the Expense Tracker Application interface. You will begin by gaining an understanding of web development fundamentals. This serves as a foundational step in the development process and will provide you with hands-on experience in building web interfaces for real-world applications.\n",
        "\n",
        "\n",
        "Assignment: Create a Basic HTML Template:\n",
        "    Design a basic HTML template for the Expense Tracker Application interface.\n",
        "    Your page should include the below:\n",
        "\n",
        "    1. title\n",
        "    2. meta tag for display\n",
        "    3. meta tag for character set\n",
        "    4. header\n",
        "    5. heading\n",
        "    6. paragraph\n",
        "    7. basic registration form\n",
        "    8. table displaying common user information: name, email, phone number.\n",
        "    9. an image\n",
        "    10. an external link to https://google.com"
      ],
      "metadata": {
        "id": "Uj08oN0ZdYMf"
      }
    },
    {
      "cell_type": "code",
      "source": [
        "from IPython.core.display import HTML"
      ],
      "metadata": {
        "id": "D3DrMFgHdaA8"
      },
      "execution_count": 7,
      "outputs": []
    },
    {
      "cell_type": "code",
      "source": [
        "html_content = \"\"\"\n",
        "<!DOCTYPE html>\n",
        "<html lang=\"en\">\n",
        "<head>\n",
        "    <meta charset=\"UTF-8\">\n",
        "    <meta name=\"viewport\" content=\"width=device-width, initial-scale=1.0\">\n",
        "    <title>Expense Tracker Application</title>\n",
        "</head>\n",
        "<body>\n",
        "    <header>\n",
        "        <h1>Expense Tracker Application</h1>\n",
        "    </header>\n",
        "\n",
        "    <p>Welcome to the Expense Tracker Application. Please register to start tracking your expenses.</p>\n",
        "\n",
        "    <form action=\"/submit-registration\" method=\"post\">\n",
        "        <fieldset>\n",
        "            <legend>Registration Form</legend>\n",
        "            <label for=\"name\">Name:</label>\n",
        "            <input type=\"text\" id=\"name\" name=\"name\" required><br><br>\n",
        "            <label for=\"email\">Email:</label>\n",
        "            <input type=\"email\" id=\"email\" name=\"email\" required><br><br>\n",
        "            <label for=\"phone\">Phone Number:</label>\n",
        "            <input type=\"tel\" id=\"phone\" name=\"phone\" required><br><br>\n",
        "            <input type=\"submit\" value=\"Register\">\n",
        "        </fieldset>\n",
        "    </form>\n",
        "\n",
        "    <table border=\"1\">\n",
        "        <thead>\n",
        "            <tr>\n",
        "                <th>Name</th>\n",
        "                <th>Email</th>\n",
        "                <th>Phone Number</th>\n",
        "            </tr>\n",
        "        </thead>\n",
        "        <tbody>\n",
        "            <tr>\n",
        "                <td>John Doe</td>\n",
        "                <td>john.doe@example.com</td>\n",
        "                <td>(555) 123-4567</td>\n",
        "            </tr>\n",
        "            <tr>\n",
        "                <td>Jane Smith</td>\n",
        "                <td>jane.smith@example.com</td>\n",
        "                <td>(555) 987-6543</td>\n",
        "            </tr>\n",
        "        </tbody>\n",
        "    </table>\n",
        "\n",
        "    <img src=\"expense-tracker.jpg\" alt=\"Expense Tracker\">\n",
        "\n",
        "    <a href=\"https://google.com\" target=\"_blank\">Visit Google</a>\n",
        "</body>\n",
        "</html>\n",
        "\"\"\"\n",
        "\n",
        "# Display the HTML content\n",
        "display(HTML(html_content))\n"
      ],
      "metadata": {
        "colab": {
          "resources": {
            "http://localhost:8080/expense-tracker.jpg": {
              "data": "",
              "ok": false,
              "headers": [
                [
                  "content-length",
                  "0"
                ]
              ],
              "status": 404,
              "status_text": ""
            }
          },
          "base_uri": "https://localhost:8080/",
          "height": 352
        },
        "id": "F9Z0m0dtdEtb",
        "outputId": "e208aeab-cb95-4d33-d4d5-5e37c8f9f987"
      },
      "execution_count": 8,
      "outputs": [
        {
          "output_type": "display_data",
          "data": {
            "text/plain": [
              "<IPython.core.display.HTML object>"
            ],
            "text/html": [
              "\n",
              "<!DOCTYPE html>\n",
              "<html lang=\"en\">\n",
              "<head>\n",
              "    <meta charset=\"UTF-8\">\n",
              "    <meta name=\"viewport\" content=\"width=device-width, initial-scale=1.0\">\n",
              "    <title>Expense Tracker Application</title>\n",
              "</head>\n",
              "<body>\n",
              "    <header>\n",
              "        <h1>Expense Tracker Application</h1>\n",
              "    </header>\n",
              "    \n",
              "    <p>Welcome to the Expense Tracker Application. Please register to start tracking your expenses.</p>\n",
              "    \n",
              "    <form action=\"/submit-registration\" method=\"post\">\n",
              "        <fieldset>\n",
              "            <legend>Registration Form</legend>\n",
              "            <label for=\"name\">Name:</label>\n",
              "            <input type=\"text\" id=\"name\" name=\"name\" required><br><br>\n",
              "            <label for=\"email\">Email:</label>\n",
              "            <input type=\"email\" id=\"email\" name=\"email\" required><br><br>\n",
              "            <label for=\"phone\">Phone Number:</label>\n",
              "            <input type=\"tel\" id=\"phone\" name=\"phone\" required><br><br>\n",
              "            <input type=\"submit\" value=\"Register\">\n",
              "        </fieldset>\n",
              "    </form>\n",
              "    \n",
              "    <table border=\"1\">\n",
              "        <thead>\n",
              "            <tr>\n",
              "                <th>Name</th>\n",
              "                <th>Email</th>\n",
              "                <th>Phone Number</th>\n",
              "            </tr>\n",
              "        </thead>\n",
              "        <tbody>\n",
              "            <tr>\n",
              "                <td>John Doe</td>\n",
              "                <td>john.doe@example.com</td>\n",
              "                <td>(555) 123-4567</td>\n",
              "            </tr>\n",
              "            <tr>\n",
              "                <td>Jane Smith</td>\n",
              "                <td>jane.smith@example.com</td>\n",
              "                <td>(555) 987-6543</td>\n",
              "            </tr>\n",
              "        </tbody>\n",
              "    </table>\n",
              "\n",
              "    <img src=\"expense-tracker.jpg\" alt=\"Expense Tracker\">\n",
              "\n",
              "    <a href=\"https://google.com\" target=\"_blank\">Visit Google</a>\n",
              "</body>\n",
              "</html>\n"
            ]
          },
          "metadata": {}
        }
      ]
    }
  ]
}